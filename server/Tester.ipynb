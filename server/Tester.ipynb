{
 "cells": [
  {
   "cell_type": "code",
   "execution_count": 6,
   "metadata": {
    "collapsed": false
   },
   "outputs": [],
   "source": [
    "import re\n",
    "import os\n",
    "import json\n",
    "import codecs\n",
    "import datetime as dt\n",
    "from dateutil.parser import parse\n",
    "from dateutil.tz import tzlocal\n",
    "try:\n",
    "    # Python 3\n",
    "    from urllib.request import urlopen\n",
    "except ImportError:\n",
    "    # Python 2\n",
    "    from urllib2 import urlopen"
   ]
  },
  {
   "cell_type": "code",
   "execution_count": 2,
   "metadata": {
    "collapsed": false
   },
   "outputs": [],
   "source": [
    "#\n",
    "# Geographic location: Houston\n",
    "#\n",
    "latitude = 29.76\n",
    "longitude = -95.37\n",
    "\n",
    "one_day = dt.timedelta(days=1)"
   ]
  },
  {
   "cell_type": "code",
   "execution_count": 3,
   "metadata": {
    "collapsed": false
   },
   "outputs": [],
   "source": [
    "def get_icon_lookup_dict(filename = None):\n",
    "    \"\"\"\n",
    "    Reads the ID tags from an SVG, and returns a dictionary in the form:\n",
    "    {'forecast.io name': 'svg ID value'}\n",
    "    \"\"\"\n",
    "    if not filename:\n",
    "        filename = 'weather-script-preprocess.svg'\n",
    "    with open(filename) as fh:\n",
    "        txt = fh.read()\n",
    "        icon_dict = {x:[x] for x in re.findall(r'(?<=id=\")[^\"]*(?=\")', txt) if x not in ('divider')}\n",
    "    # Icon names from forecast.io: \n",
    "    # clear-day, clear-night, rain, snow, sleet, wind, \n",
    "    # fog, cloudy, partly-cloudy-day, partly-cloudy-night\n",
    "    icon_dict['sun'].extend(['clear-day','clear-night'])\n",
    "    icon_dict['overcast'].extend(['cloudy'])\n",
    "    icon_dict['clouds-medium'].extend(['partly-cloudy-day','partly-cloudy-night'])\n",
    "    icon_dict['rain-freezing'].extend(['sleet'])\n",
    "\n",
    "    return {v:k for k,vs in icon_dict.items() for v in vs }"
   ]
  },
  {
   "cell_type": "code",
   "execution_count": 4,
   "metadata": {
    "collapsed": false
   },
   "outputs": [],
   "source": [
    "#\n",
    "# Download and parse weather data. Must have API key at ~/.forecastio.key\n",
    "#\n",
    "try:\n",
    "    API_KEY = str(open(os.path.expanduser('~/.forecastio.key')).read().strip())\n",
    "except FileNotFoundError:\n",
    "    print(\"No API key existed\")\n",
    "    exit()\n",
    "url_raw = \"https://api.forecast.io/forecast/{key}/{lat},{lon}?exclude=hourly,alerts,flags\"\n",
    "# Todays weather\n",
    "url_weather = url_raw.format(key=API_KEY, lat=latitude, lon=longitude)\n",
    "weather_data = urlopen(url_weather).read().decode(\"utf-8\")\n",
    "weather_json = json.loads(weather_data)\n",
    "#weather_json.keys()"
   ]
  },
  {
   "cell_type": "code",
   "execution_count": 7,
   "metadata": {
    "collapsed": false
   },
   "outputs": [],
   "source": [
    "# Assemble first day data (0 day)\n",
    "icon_dict = get_icon_lookup_dict()"
   ]
  },
  {
   "cell_type": "code",
   "execution_count": 8,
   "metadata": {
    "collapsed": false
   },
   "outputs": [],
   "source": [
    "#\n",
    "# Preprocess SVG\n",
    "#\n",
    "info_dict = {'date' : dt.datetime.now()}\n",
    "\n",
    "# Add data: date, day#, icon#, rain#, high#, low#\n",
    "for i in range(0,4):  # 4 day forcast\n",
    "    info_dict['day{}'.format(i)] = info_dict['date'] + i*one_day\n",
    "    info_dict['high{}'.format(i)] = weather_json['daily']['data'][i]['apparentTemperatureMax']\n",
    "    info_dict['low{}'.format(i)] = weather_json['daily']['data'][i]['apparentTemperatureMin']\n",
    "    info_dict['icon{}'.format(i)] = icon_dict.get(weather_json['daily']['data'][i]['icon'], 'sun')\n",
    "    info_dict['rain{}'.format(i)] = (\"{:2d}%\".format(int(weather_json['daily']['data'][i]['precipProbability']*100)) \n",
    "                                     if weather_json['daily']['data'][i]['precipProbability']>0 else '')\n",
    "\n",
    "info_dict['temp'] = weather_json['currently']['apparentTemperature']\n",
    "\n",
    "# Open SVG to process\n",
    "output = codecs.open('weather-script-preprocess.svg', 'r',  encoding='utf-8').read()\n",
    "\n",
    "# Write output\n",
    "codecs.open('weather-script-output.svg', 'w',\n",
    "             encoding='utf-8').write(output.format(**info_dict))"
   ]
  }
 ],
 "metadata": {
  "kernelspec": {
   "display_name": "Python 3",
   "language": "python",
   "name": "python3"
  },
  "language_info": {
   "codemirror_mode": {
    "name": "ipython",
    "version": 3
   },
   "file_extension": ".py",
   "mimetype": "text/x-python",
   "name": "python",
   "nbconvert_exporter": "python",
   "pygments_lexer": "ipython3",
   "version": "3.4.3"
  }
 },
 "nbformat": 4,
 "nbformat_minor": 0
}
